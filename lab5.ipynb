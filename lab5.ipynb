{
  "nbformat": 4,
  "nbformat_minor": 0,
  "metadata": {
    "colab": {
      "provenance": [],
      "include_colab_link": true
    },
    "kernelspec": {
      "name": "python3",
      "display_name": "Python 3"
    },
    "language_info": {
      "name": "python"
    }
  },
  "cells": [
    {
      "cell_type": "markdown",
      "metadata": {
        "id": "view-in-github",
        "colab_type": "text"
      },
      "source": [
        "<a href=\"https://colab.research.google.com/github/dev-singh-kanyal/prip-lab/blob/main/lab5.ipynb\" target=\"_parent\"><img src=\"https://colab.research.google.com/assets/colab-badge.svg\" alt=\"Open In Colab\"/></a>"
      ]
    },
    {
      "cell_type": "code",
      "execution_count": null,
      "metadata": {
        "colab": {
          "base_uri": "https://localhost:8080/"
        },
        "id": "_255-lmoCqx_",
        "outputId": "8a62a8e2-7307-44bf-9f88-fc227bbdfce6"
      },
      "outputs": [
        {
          "output_type": "stream",
          "name": "stdout",
          "text": [
            "Adjusted Rand Index: 0.554627697901858\n",
            "Mutual Information Score: 0.688435504624754\n"
          ]
        }
      ],
      "source": [
        "# Import necessary libraries\n",
        "import numpy as np\n",
        "import matplotlib.pyplot as plt\n",
        "from sklearn.datasets import load_digits\n",
        "from sklearn.cluster import KMeans\n",
        "from sklearn.preprocessing import scale\n",
        "from sklearn import metrics\n",
        "\n",
        "# Load the digits dataset from sklearn.datasets\n",
        "digits = load_digits()\n",
        "\n",
        "# Scale the features of the dataset\n",
        "data = scale(digits.data)\n",
        "\n",
        "# Using KMeans for clustering\n",
        "n_samples, n_features = data.shape\n",
        "n_digits = len(np.unique(digits.target))\n",
        "labels = digits.target\n",
        "\n",
        "# Initialize the KMeans algorithm\n",
        "kmeans = KMeans(init='k-means++', n_clusters=n_digits, n_init=10)\n",
        "\n",
        "# Fit KMeans to the data\n",
        "kmeans.fit(data)\n",
        "\n",
        "# Predict the cluster labels\n",
        "predicted_labels = kmeans.predict(data)\n",
        "\n",
        "# Evaluate the clustering performance using metrics\n",
        "print(f\"Adjusted Rand Index: {metrics.adjusted_rand_score(labels, predicted_labels)}\")\n",
        "print(f\"Mutual Information Score: {metrics.adjusted_mutual_info_score(labels, predicted_labels)}\")"
      ]
    }
  ]
}